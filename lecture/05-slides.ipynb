{
 "cells": [
  {
   "cell_type": "markdown",
   "id": "protective-afternoon",
   "metadata": {},
   "source": [
    "# 05. Functions"
   ]
  },
  {
   "cell_type": "code",
   "execution_count": 4,
   "id": "outdoor-concentration",
   "metadata": {},
   "outputs": [],
   "source": [
    "# Defining a function simply sets things up.\n",
    "def greetings(): \n",
    "    print(\"hello!\")"
   ]
  },
  {
   "cell_type": "code",
   "execution_count": 5,
   "id": "infinite-world",
   "metadata": {},
   "outputs": [
    {
     "name": "stdout",
     "output_type": "stream",
     "text": [
      "hello!\n"
     ]
    }
   ],
   "source": [
    "# Invoke the function using its name and more parentheses. \n",
    "greetings()"
   ]
  },
  {
   "cell_type": "code",
   "execution_count": 6,
   "id": "preceding-fraud",
   "metadata": {},
   "outputs": [],
   "source": [
    "# function parameters and arguments\n",
    "def get_total_price(list_price, tax_rate): \n",
    "    total_price = list_price * (1. + tax_rate) \n",
    "    return total_price"
   ]
  },
  {
   "cell_type": "code",
   "execution_count": 7,
   "id": "apparent-filter",
   "metadata": {},
   "outputs": [
    {
     "data": {
      "text/plain": [
       "110.00000000000001"
      ]
     },
     "execution_count": 7,
     "metadata": {},
     "output_type": "execute_result"
    }
   ],
   "source": [
    "# invoke the function\n",
    "get_total_price(100., 0.1)"
   ]
  },
  {
   "cell_type": "code",
   "execution_count": 8,
   "id": "optical-apache",
   "metadata": {},
   "outputs": [],
   "source": [
    "#  Keyword and Positional Arguments\n",
    "def calculate_area(length, width): \n",
    "    return length * width"
   ]
  },
  {
   "cell_type": "code",
   "execution_count": 9,
   "id": "cooperative-seeker",
   "metadata": {},
   "outputs": [
    {
     "data": {
      "text/plain": [
       "72"
      ]
     },
     "execution_count": 9,
     "metadata": {},
     "output_type": "execute_result"
    }
   ],
   "source": [
    "# invoke\n",
    "calculate_area(8,9) \n",
    " "
   ]
  },
  {
   "cell_type": "code",
   "execution_count": 10,
   "id": "sixth-template",
   "metadata": {},
   "outputs": [
    {
     "data": {
      "text/plain": [
       "72"
      ]
     },
     "execution_count": 10,
     "metadata": {},
     "output_type": "execute_result"
    }
   ],
   "source": [
    "# invoke\n",
    "calculate_area(width=9, length=8)"
   ]
  },
  {
   "cell_type": "code",
   "execution_count": 13,
   "id": "advance-dancing",
   "metadata": {},
   "outputs": [],
   "source": [
    "# What Does This Function Do?\n",
    "def mystery_function(list_to_check, value): \n",
    "    for i in range(len(list_to_check) ):\n",
    "        if(list_to_check[i] == value): \n",
    "            return i\n",
    "        return -1"
   ]
  },
  {
   "cell_type": "code",
   "execution_count": 18,
   "id": "occupied-uzbekistan",
   "metadata": {},
   "outputs": [],
   "source": [
    "list_to_check=[1,3,4,5]"
   ]
  },
  {
   "cell_type": "code",
   "execution_count": 20,
   "id": "reverse-playlist",
   "metadata": {},
   "outputs": [
    {
     "data": {
      "text/plain": [
       "range(0, 4)"
      ]
     },
     "execution_count": 20,
     "metadata": {},
     "output_type": "execute_result"
    }
   ],
   "source": [
    "range(len(list_to_check))"
   ]
  },
  {
   "cell_type": "code",
   "execution_count": 22,
   "id": "united-bradford",
   "metadata": {},
   "outputs": [
    {
     "name": "stdout",
     "output_type": "stream",
     "text": [
      "0\n",
      "1\n",
      "2\n",
      "3\n"
     ]
    }
   ],
   "source": [
    "for i in range(len(list_to_check) ):\n",
    "    print (i)"
   ]
  },
  {
   "cell_type": "code",
   "execution_count": 23,
   "id": "false-whale",
   "metadata": {},
   "outputs": [
    {
     "data": {
      "text/plain": [
       "-1"
      ]
     },
     "execution_count": 23,
     "metadata": {},
     "output_type": "execute_result"
    }
   ],
   "source": [
    "mystery_function(list_to_check, 3)"
   ]
  },
  {
   "cell_type": "markdown",
   "id": "enormous-chosen",
   "metadata": {},
   "source": [
    "###  Using map()"
   ]
  },
  {
   "cell_type": "code",
   "execution_count": 36,
   "id": "bound-bible",
   "metadata": {},
   "outputs": [],
   "source": [
    "greetings = [\"hi\", \"hello\", \"salutations\"]\n",
    "def excitement(word):\n",
    "    return word + \"!!!\"\n",
    "excited_greetings = map(excitement, greetings)"
   ]
  },
  {
   "cell_type": "code",
   "execution_count": 40,
   "id": "civilian-mitchell",
   "metadata": {},
   "outputs": [
    {
     "data": {
      "text/plain": [
       "[]"
      ]
     },
     "execution_count": 40,
     "metadata": {},
     "output_type": "execute_result"
    }
   ],
   "source": [
    "# the results are a list\n",
    "list(excited_greetings)"
   ]
  },
  {
   "cell_type": "markdown",
   "id": "informational-butterfly",
   "metadata": {},
   "source": [
    "##  Lambda Functions"
   ]
  },
  {
   "cell_type": "code",
   "execution_count": 45,
   "id": "proved-liberty",
   "metadata": {},
   "outputs": [],
   "source": [
    "greetings = [\"hi\", \"hello\", \"salutations\"]\n",
    "excited_greetings = map(lambda word : word + \"!!!\", greetings)"
   ]
  },
  {
   "cell_type": "code",
   "execution_count": 46,
   "id": "classified-litigation",
   "metadata": {},
   "outputs": [
    {
     "data": {
      "text/plain": [
       "['hi!!!', 'hello!!!', 'salutations!!!']"
      ]
     },
     "execution_count": 46,
     "metadata": {},
     "output_type": "execute_result"
    }
   ],
   "source": [
    "list(excited_greetings)"
   ]
  }
 ],
 "metadata": {
  "kernelspec": {
   "display_name": "Python 3",
   "language": "python",
   "name": "python3"
  },
  "language_info": {
   "codemirror_mode": {
    "name": "ipython",
    "version": 3
   },
   "file_extension": ".py",
   "mimetype": "text/x-python",
   "name": "python",
   "nbconvert_exporter": "python",
   "pygments_lexer": "ipython3",
   "version": "3.8.2"
  }
 },
 "nbformat": 4,
 "nbformat_minor": 5
}
